{
  "nbformat": 4,
  "nbformat_minor": 0,
  "metadata": {
    "colab": {
      "provenance": []
    },
    "kernelspec": {
      "name": "python3",
      "display_name": "Python 3"
    },
    "language_info": {
      "name": "python"
    }
  },
  "cells": [
    {
      "cell_type": "markdown",
      "source": [
        "Q1. What is Object-Oriented Programming (OOP) ?\n",
        "\n",
        "\n",
        "    - Object-Oriented Programming (OOP) is a programming paradigm based on the concept of \"objects\", which can contain data (called attributes or properties) and code (called methods or functions).\n",
        "\n",
        "    Key Concepts of OOP:\n",
        "    1) Class-\n",
        "     A blueprint or template for creating objects.\n",
        "     Defines the structure (attributes) and behavior (methods) that the created objects will have.\n",
        "     Example:\n",
        "      \n"
      ],
      "metadata": {
        "id": "6fJvkymB99Xl"
      }
    },
    {
      "cell_type": "code",
      "source": [
        "# Example:\n",
        "\n",
        "class Car:\n",
        "    def __init__(self, brand, model):\n",
        "        self.brand = brand\n",
        "        self.model = model\n",
        "\n",
        "    def display(self):\n",
        "        print(f\"Car: {self.brand} {self.model}\")\n",
        "\n",
        "\n",
        ""
      ],
      "metadata": {
        "id": "NKPglEeL_C7S"
      },
      "execution_count": 38,
      "outputs": []
    },
    {
      "cell_type": "markdown",
      "source": [
        "2) Object-\n",
        "\n",
        "  An instance of a class.\n",
        "\n",
        "  Each object has its own values for the properties defined in the class.\n",
        "\n",
        "  \n",
        "\n",
        "\n"
      ],
      "metadata": {
        "id": "i8NIz9LgBJA7"
      }
    },
    {
      "cell_type": "code",
      "source": [
        "# Example:\n",
        "\n",
        "my_car = Car(\"Toyota\", \"Camry\")\n",
        "my_car.display()\n"
      ],
      "metadata": {
        "colab": {
          "base_uri": "https://localhost:8080/"
        },
        "id": "qHluxcA9Bb0U",
        "outputId": "ae5d88b3-90e6-4b58-d717-eed6b3779fa6"
      },
      "execution_count": 39,
      "outputs": [
        {
          "output_type": "stream",
          "name": "stdout",
          "text": [
            "Car: Toyota Camry\n"
          ]
        }
      ]
    },
    {
      "cell_type": "markdown",
      "source": [
        "3) Encapsulation-\n",
        "\n",
        "  Hides the internal state of an object and requires all interaction to be performed through methods.\n",
        "\n",
        "  Helps protect the integrity of the data.\n",
        "\n",
        "4) Inheritance-\n",
        "\n",
        "  One class can inherit the attributes and methods of another class.\n",
        "\n",
        "  Promotes code reuse.\n",
        "\n",
        "\n",
        "\n"
      ],
      "metadata": {
        "id": "9s6gvLahBk6S"
      }
    },
    {
      "cell_type": "code",
      "source": [
        "# Example:\n",
        "\n",
        "class ElectricCar(Car):\n",
        "    def __init__(self, brand, model, battery_capacity):\n",
        "        super().__init__(brand, model)\n",
        "        self.battery_capacity = battery_capacity\n",
        "\n"
      ],
      "metadata": {
        "id": "JQqlfdynB5tz"
      },
      "execution_count": 40,
      "outputs": []
    },
    {
      "cell_type": "markdown",
      "source": [
        "5) Polymorphism-\n",
        "\n",
        "  Allows methods with the same name to behave differently based on the object calling them.\n",
        "\n",
        "\n"
      ],
      "metadata": {
        "id": "YnTuMdvICBZS"
      }
    },
    {
      "cell_type": "code",
      "source": [
        "# Example:\n",
        "\n",
        "class Dog:\n",
        "    def sound(self):\n",
        "        print(\"Bark\")\n",
        "\n",
        "class Cat:\n",
        "    def sound(self):\n",
        "        print(\"Meow\")\n",
        "\n",
        "def make_sound(animal):\n",
        "    animal.sound()\n"
      ],
      "metadata": {
        "id": "X9qzb1hxCHPS"
      },
      "execution_count": 41,
      "outputs": []
    },
    {
      "cell_type": "markdown",
      "source": [
        "6) Abstraction-\n",
        "  Hides unnecessary details and shows only the essential features of an object.\n",
        "\n",
        "  Example: You use a car without needing to know how the engine works.\n",
        "\n",
        "\n",
        "  Benefits of OOP:\n",
        "\n",
        "  Modular code (easier to debug and maintain)\n",
        "\n",
        "  Reusability through inheritance\n",
        "\n",
        "  Flexibility through polymorphism\n",
        "\n",
        "  Security through encapsulation.\n",
        "\n"
      ],
      "metadata": {
        "id": "b8IuW1RWCPgj"
      }
    },
    {
      "cell_type": "markdown",
      "source": [
        "Q2. What is a class in OOP ?\n",
        "  \n",
        "  - In Object-Oriented Programming (OOP), a class is a blueprint or template for creating objects (instances). It defines a data structure that includes:\n",
        "\n",
        "  1. Attributes (also called properties or fields): These represent the state or characteristics of an object.\n",
        "\n",
        "  2. Methods (functions defined within the class): These define the behavior or actions the object can perform.\n",
        "\n"
      ],
      "metadata": {
        "id": "t1i_n6LPCru-"
      }
    },
    {
      "cell_type": "code",
      "source": [
        "# Example:\n",
        "\n",
        "class Car:\n",
        "    def __init__(self, brand, model):\n",
        "        self.brand = brand      # Attribute\n",
        "        self.model = model      # Attribute\n",
        "\n",
        "    def start_engine(self):     # Method\n",
        "        print(f\"The {self.brand} {self.model} engine is starting.\")\n"
      ],
      "metadata": {
        "id": "ZEwnLbiDDDUj"
      },
      "execution_count": 42,
      "outputs": []
    },
    {
      "cell_type": "code",
      "source": [
        "# You can create an object from this class like this:\n",
        "\n",
        "my_car = Car(\"Toyota\", \"Corolla\")\n",
        "my_car.start_engine()\n"
      ],
      "metadata": {
        "colab": {
          "base_uri": "https://localhost:8080/"
        },
        "id": "18XKFyKg_A5S",
        "outputId": "73dcec00-9e84-4754-b985-f9d664474a95"
      },
      "execution_count": 43,
      "outputs": [
        {
          "output_type": "stream",
          "name": "stdout",
          "text": [
            "The Toyota Corolla engine is starting.\n"
          ]
        }
      ]
    },
    {
      "cell_type": "markdown",
      "source": [
        "Summary:\n",
        "\n",
        "  A class defines the structure and behavior of objects.\n",
        "\n",
        "  An object is an instance of a class.\n",
        "\n",
        "  OOP concepts like inheritance, encapsulation, and polymorphism revolve around classes.\n",
        "\n"
      ],
      "metadata": {
        "id": "sIjH6sLEDUUy"
      }
    },
    {
      "cell_type": "markdown",
      "source": [
        "Q3.  What is an object in OOP ?\n",
        "\n",
        "  - In Object-Oriented Programming (OOP), an object is an instance of a class.\n",
        "\n",
        "\n",
        "  Definition:\n",
        "\n",
        "  An object is a self-contained unit that contains both data (attributes or properties) and functions (methods) that operate on that data.\n",
        "\n",
        "  "
      ],
      "metadata": {
        "id": "mzzhoJ1XDisS"
      }
    },
    {
      "cell_type": "code",
      "source": [
        "# Example:\n",
        "\n",
        "class Car:\n",
        "    def __init__(self, brand, color):\n",
        "        self.brand = brand\n",
        "        self.color = color\n",
        "\n",
        "    def drive(self):\n",
        "        print(f\"The {self.color} {self.brand} is driving.\")\n",
        "\n",
        "# Creating an object\n",
        "my_car = Car(\"Toyota\", \"Red\")\n",
        "my_car.drive()\n"
      ],
      "metadata": {
        "colab": {
          "base_uri": "https://localhost:8080/"
        },
        "id": "YRXzaTruD3Ah",
        "outputId": "671b16ce-14b5-4726-e914-b821fcab45a7"
      },
      "execution_count": 44,
      "outputs": [
        {
          "output_type": "stream",
          "name": "stdout",
          "text": [
            "The Red Toyota is driving.\n"
          ]
        }
      ]
    },
    {
      "cell_type": "markdown",
      "source": [
        "Here:\n",
        "\n",
        "Car is the class (blueprint).\n",
        "\n",
        "my_car is an object (real-world instance of that blueprint).\n",
        "\n",
        "It has its own data (brand, color) and can perform actions using methods (drive()).\n",
        "\n",
        "\n",
        "\n",
        "Key Features of an Object:\n",
        "\n",
        "Identity: Unique name or reference.\n",
        "\n",
        "State: Represented by attributes (variables).\n",
        "\n",
        "Behavior: Defined by methods (functions).\n",
        "\n",
        "Real-World Analogy:\n",
        "\n",
        "Think of a class as a blueprint of a house, and objects as actual houses built from that blueprint — each house (object) can have different wall colors (attributes) and people living inside (behaviors).\n",
        "\n",
        "\n",
        "\n"
      ],
      "metadata": {
        "id": "YGWP5spqD-mh"
      }
    },
    {
      "cell_type": "markdown",
      "source": [
        "Q4. What is the difference between abstraction and encapsulation ?\n",
        "  \n",
        "  - The concepts of abstraction and encapsulation are both fundamental to Object-Oriented Programming (OOP), but they serve different purposes. Here's a clear comparison:\n",
        "\n",
        "    Abstraction-\n",
        "\n",
        "    Definition:\n",
        "    Abstraction is the process of hiding complex implementation details and showing only the essential features of an object.\n",
        "\n",
        "    Purpose:\n",
        "    To reduce complexity by only exposing necessary details.\n",
        "\n",
        "    Real-life Example:\n",
        "    When you use a TV remote, you only press buttons—you don't need to understand how the remote works internally.\n",
        "\n"
      ],
      "metadata": {
        "id": "aZ5CElidEfHU"
      }
    },
    {
      "cell_type": "code",
      "source": [
        "# Done using abstract classes, interfaces, or methods.\n",
        "\n",
        "from abc import ABC, abstractmethod\n",
        "\n",
        "class Animal(ABC):\n",
        "    @abstractmethod\n",
        "    def make_sound(self):\n",
        "        pass\n",
        "\n",
        "class Dog(Animal):\n",
        "    def make_sound(self):\n",
        "        return \"Bark\"\n"
      ],
      "metadata": {
        "id": "bKh1Xbm-FHmK"
      },
      "execution_count": 45,
      "outputs": []
    },
    {
      "cell_type": "markdown",
      "source": [
        "    Encapsulation-\n",
        "\n",
        "    Definition:\n",
        "    Encapsulation is the concept of binding data (variables) and methods (functions) that operate on the data into a single unit (class), and restricting access to some of the object’s components.\n",
        "\n",
        "    Purpose:\n",
        "    To protect data from unauthorized access or modification.\n",
        "\n",
        "    Real-life Example:\n",
        "    Think of a capsule—it contains the medicine inside, and you cannot access its ingredients directly.\n",
        "\n",
        "    "
      ],
      "metadata": {
        "id": "hxqR75rMFN5J"
      }
    },
    {
      "cell_type": "code",
      "source": [
        "# Done by making variables private (using _ or __) and providing getter/setter methods.\n",
        "\n",
        "class Person:\n",
        "    def __init__(self, name):\n",
        "        self.__name = name  # private variable\n",
        "\n",
        "    def get_name(self):\n",
        "        return self.__name\n",
        "\n",
        "    def set_name(self, new_name):\n",
        "        self.__name = new_name\n"
      ],
      "metadata": {
        "id": "VV8g8wFhFlWa"
      },
      "execution_count": 46,
      "outputs": []
    },
    {
      "cell_type": "markdown",
      "source": [
        "Q5. What are dunder methods in Python ?\n",
        "  \n",
        "  - Dunder methods in Python (also known as magic methods or special methods) are methods with double underscores at the beginning and end of their names, like __init__, __str__, or __len__. They are used to enable custom behavior for built-in Python operations, such as object creation, string representation, arithmetic operations, and more."
      ],
      "metadata": {
        "id": "ikga_mt0F1IZ"
      }
    },
    {
      "cell_type": "code",
      "execution_count": 47,
      "metadata": {
        "colab": {
          "base_uri": "https://localhost:8080/"
        },
        "id": "WjrnyzqH91xM",
        "outputId": "58e7adff-00d6-45d2-dcf3-99a0c7990c4b"
      },
      "outputs": [
        {
          "output_type": "stream",
          "name": "stdout",
          "text": [
            "Python Basics has 300 pages.\n",
            "300\n"
          ]
        }
      ],
      "source": [
        "# Example:\n",
        "\n",
        "\n",
        "class Book:\n",
        "    def __init__(self, title, pages):\n",
        "        self.title = title\n",
        "        self.pages = pages\n",
        "\n",
        "    def __str__(self):\n",
        "        return f\"{self.title} has {self.pages} pages.\"\n",
        "\n",
        "    def __len__(self):\n",
        "        return self.pages\n",
        "\n",
        "book = Book(\"Python Basics\", 300)\n",
        "print(book)        # Calls __str__: Python Basics has 300 pages.\n",
        "print(len(book))   # Calls __len__: 300\n"
      ]
    },
    {
      "cell_type": "markdown",
      "source": [
        "Why Use Dunder Methods?\n",
        "\n",
        "- To make custom objects behave like built-in types.\n",
        "\n",
        "-  To improve readability and usability of classes.\n",
        "\n",
        "-  To define how objects interact with operators and functions.\n",
        "\n"
      ],
      "metadata": {
        "id": "xME8nxA5GScz"
      }
    },
    {
      "cell_type": "markdown",
      "source": [
        "Q6. Explain the concept of inheritance in OOP .\n",
        "\n",
        "  - Inheritance is a fundamental concept in Object-Oriented Programming (OOP) that allows one class (called a child or subclass) to inherit the properties and behaviors (methods and attributes) of another class (called a parent or superclass).\n",
        "\n",
        "  Key Concepts of Inheritance:\n",
        "\n",
        "  1) Reusability: Code written in the parent class can be reused in the child class.\n",
        "\n",
        "  2) Extensibility: The child class can add its own methods or override parent methods.\n",
        "\n",
        "  3) Hierarchy: Represents an “is-a” relationship. For example, a Dog is a Animal.\n",
        "\n"
      ],
      "metadata": {
        "id": "NkfvpTWmGkZR"
      }
    },
    {
      "cell_type": "code",
      "source": [
        "# Syntax Example:\n",
        "\n",
        "# Parent class\n",
        "class Animal:\n",
        "    def speak(self):\n",
        "        print(\"Animal speaks\")\n",
        "\n",
        "# Child class\n",
        "class Dog(Animal):\n",
        "    def bark(self):\n",
        "        print(\"Dog barks\")\n",
        "\n",
        "# Usage\n",
        "d = Dog()\n",
        "d.speak()  # Inherited from Animal\n",
        "d.bark()   # Defined in Dog\n"
      ],
      "metadata": {
        "colab": {
          "base_uri": "https://localhost:8080/"
        },
        "id": "NCknMI-8GJkB",
        "outputId": "72afc2c6-a896-4ab4-cb5b-539a901ac629"
      },
      "execution_count": 48,
      "outputs": [
        {
          "output_type": "stream",
          "name": "stdout",
          "text": [
            "Animal speaks\n",
            "Dog barks\n"
          ]
        }
      ]
    },
    {
      "cell_type": "markdown",
      "source": [
        "  Types of Inheritance:\n",
        "\n",
        "  1) Single Inheritance: One child class inherits from one parent class.\n",
        "\n",
        "  2) Multiple Inheritance: A class inherits from more than one parent class.\n",
        "\n",
        "  3) Multilevel Inheritance: A class inherits from a class which is already a child of another.\n",
        "\n",
        "  4) Hierarchical Inheritance: Multiple child classes inherit from one parent class.\n",
        "\n",
        "  5) Hybrid Inheritance: Combination of multiple types of inheritance.\n",
        "\n",
        "\n",
        "\n",
        "\n",
        "  Method Overriding:\n",
        "\n",
        "  The child class can redefine methods of the parent class.\n",
        "\n",
        "\n"
      ],
      "metadata": {
        "id": "3PMnU5p6HDwZ"
      }
    },
    {
      "cell_type": "code",
      "source": [
        "# Example:\n",
        "\n",
        "class Animal:\n",
        "    def speak(self):\n",
        "        print(\"Animal sound\")\n",
        "\n",
        "class Dog(Animal):\n",
        "    def speak(self):  # Overriding the parent method\n",
        "        print(\"Bark\")\n"
      ],
      "metadata": {
        "id": "Zq7rLt8hHAA5"
      },
      "execution_count": 49,
      "outputs": []
    },
    {
      "cell_type": "markdown",
      "source": [
        "  Why Use Inheritance?\n",
        "\n",
        "  - Reduces redundancy\n",
        "\n",
        "  - Improves code maintainability\n",
        "\n",
        "  - Promotes modularity and organization\n",
        "\n"
      ],
      "metadata": {
        "id": "TkcFk_OVHlvC"
      }
    },
    {
      "cell_type": "markdown",
      "source": [
        "Q7. What is polymorphism in OOP ?\n",
        "\n",
        "  - Polymorphism in Object-Oriented Programming (OOP) is the concept that allows objects of different classes to be treated as objects of a common superclass. It enables the same operation or method to behave differently on different classes.\n",
        "\n",
        "  ypes of Polymorphism in OOP:\n",
        "\n",
        "  1) Compile-time Polymorphism (Static Binding):\n",
        "    - Achieved through method overloading or operator overloading.\n",
        "\n",
        "    - The method to be executed is determined at compile time.\n",
        "\n"
      ],
      "metadata": {
        "id": "LaSa7YD4Hw0B"
      }
    },
    {
      "cell_type": "code",
      "source": [
        "# Example:\n",
        "\n",
        "class Calculator:\n",
        "    def add(self, a, b, c=0):\n",
        "        return a + b + c\n",
        "\n",
        "calc = Calculator()\n",
        "print(calc.add(2, 3))      # Output: 5\n",
        "print(calc.add(2, 3, 4))   # Output: 9\n"
      ],
      "metadata": {
        "colab": {
          "base_uri": "https://localhost:8080/"
        },
        "id": "A3VbK-A7HiCx",
        "outputId": "9344e24e-2516-4107-faa5-6e4b32c2732c"
      },
      "execution_count": 50,
      "outputs": [
        {
          "output_type": "stream",
          "name": "stdout",
          "text": [
            "5\n",
            "9\n"
          ]
        }
      ]
    },
    {
      "cell_type": "markdown",
      "source": [
        "  2) Run-time Polymorphism (Dynamic Binding):\n",
        "\n",
        "    - Achieved through method overriding.\n",
        "    - The method to be executed is determined at runtime.\n",
        "\n",
        "\n",
        "\n"
      ],
      "metadata": {
        "id": "FzgSyqvxIPd-"
      }
    },
    {
      "cell_type": "code",
      "source": [
        "# Example:\n",
        "\n",
        "class Animal:\n",
        "    def speak(self):\n",
        "        print(\"Animal speaks\")\n",
        "\n",
        "class Dog(Animal):\n",
        "    def speak(self):\n",
        "        print(\"Dog barks\")\n",
        "\n",
        "class Cat(Animal):\n",
        "    def speak(self):\n",
        "        print(\"Cat meows\")\n",
        "\n",
        "def make_sound(animal):\n",
        "    animal.speak()\n",
        "\n",
        "make_sound(Dog())  # Output: Dog barks\n",
        "make_sound(Cat())  # Output: Cat meows\n"
      ],
      "metadata": {
        "colab": {
          "base_uri": "https://localhost:8080/"
        },
        "id": "fCVkbgVXILuR",
        "outputId": "d38b2ba7-0749-4aa7-9577-eeb49f4c58b9"
      },
      "execution_count": 51,
      "outputs": [
        {
          "output_type": "stream",
          "name": "stdout",
          "text": [
            "Dog barks\n",
            "Cat meows\n"
          ]
        }
      ]
    },
    {
      "cell_type": "markdown",
      "source": [
        "  Benefits of Polymorphism:\n",
        "\n",
        "  - Code reusability\n",
        "\n",
        "  - Flexibility and scalability\n",
        "\n",
        "  - Simplified code maintenance\n",
        "\n",
        "  - Supports open/closed principle (open for extension, closed for modification)\n",
        "\n"
      ],
      "metadata": {
        "id": "XR6ULZEhIrS5"
      }
    },
    {
      "cell_type": "markdown",
      "source": [
        "Q8. How is encapsulation achieved in Python ?\n",
        "\n",
        "  - Encapsulation in Python is achieved through:\n",
        "\n",
        "  1) Defining Classes\n",
        "\n",
        "    Encapsulation is primarily implemented using classes. A class bundles data (attributes) and methods (functions) that operate on that data into one unit.\n",
        "\n",
        "    \n",
        "\n"
      ],
      "metadata": {
        "id": "sRSi4J2MI5ER"
      }
    },
    {
      "cell_type": "code",
      "source": [
        "# Example:\n",
        "\n",
        "class Car:\n",
        "    def __init__(self, make, speed):\n",
        "        self.make = make\n",
        "        self.__speed = speed  # private variable\n",
        "\n",
        "    def drive(self):\n",
        "        print(f\"{self.make} is driving at {self.__speed} km/h\")\n"
      ],
      "metadata": {
        "id": "lVM7LROSIoFY"
      },
      "execution_count": 52,
      "outputs": []
    },
    {
      "cell_type": "markdown",
      "source": [
        "  2) Access Modifiers\n",
        "\n",
        "  - Python uses naming conventions to indicate the intended level of access:\n",
        "\n",
        "\n",
        "  - Type : Publis , Syntax : self.speed , Meaning : Accessible from anywhere\n",
        "  - Type : Protected , Syntax : self._speed , Meaning : Should not be accessed outside the class (by convention only)\n",
        "  - Type : Private , Syntax : self.__speed , Meaning : Name mangling makes it harder to access\n",
        "\n",
        ""
      ],
      "metadata": {
        "id": "tSMQlCrGJary"
      }
    },
    {
      "cell_type": "markdown",
      "source": [
        "  3) Private Variables and Name Mangling\n",
        "\n",
        "  - Python does not enforce true private access but uses name mangling for variables with double underscores (__):\n",
        "  "
      ],
      "metadata": {
        "id": "mmDw3C_rLBWS"
      }
    },
    {
      "cell_type": "code",
      "source": [
        "# Example:\n",
        "\n",
        "car = Car(\"Toyota\", 120)\n",
        "print(car.make)            # ✅ Accessible\n",
        "print(car.__speed)         # ❌ AttributeError\n",
        "print(car._Car__speed)     # ✅ Name mangling workaround\n"
      ],
      "metadata": {
        "colab": {
          "base_uri": "https://localhost:8080/",
          "height": 211
        },
        "collapsed": true,
        "id": "bYxA0SlAMJCo",
        "outputId": "f13ae90b-3426-4095-c3ad-472af3b8d8ff"
      },
      "execution_count": 53,
      "outputs": [
        {
          "output_type": "stream",
          "name": "stdout",
          "text": [
            "Toyota\n"
          ]
        },
        {
          "output_type": "error",
          "ename": "AttributeError",
          "evalue": "'Car' object has no attribute '__speed'",
          "traceback": [
            "\u001b[0;31m---------------------------------------------------------------------------\u001b[0m",
            "\u001b[0;31mAttributeError\u001b[0m                            Traceback (most recent call last)",
            "\u001b[0;32m/tmp/ipython-input-53-4077291184.py\u001b[0m in \u001b[0;36m<cell line: 0>\u001b[0;34m()\u001b[0m\n\u001b[1;32m      3\u001b[0m \u001b[0mcar\u001b[0m \u001b[0;34m=\u001b[0m \u001b[0mCar\u001b[0m\u001b[0;34m(\u001b[0m\u001b[0;34m\"Toyota\"\u001b[0m\u001b[0;34m,\u001b[0m \u001b[0;36m120\u001b[0m\u001b[0;34m)\u001b[0m\u001b[0;34m\u001b[0m\u001b[0;34m\u001b[0m\u001b[0m\n\u001b[1;32m      4\u001b[0m \u001b[0mprint\u001b[0m\u001b[0;34m(\u001b[0m\u001b[0mcar\u001b[0m\u001b[0;34m.\u001b[0m\u001b[0mmake\u001b[0m\u001b[0;34m)\u001b[0m            \u001b[0;31m# ✅ Accessible\u001b[0m\u001b[0;34m\u001b[0m\u001b[0;34m\u001b[0m\u001b[0m\n\u001b[0;32m----> 5\u001b[0;31m \u001b[0mprint\u001b[0m\u001b[0;34m(\u001b[0m\u001b[0mcar\u001b[0m\u001b[0;34m.\u001b[0m\u001b[0m__speed\u001b[0m\u001b[0;34m)\u001b[0m         \u001b[0;31m# ❌ AttributeError\u001b[0m\u001b[0;34m\u001b[0m\u001b[0;34m\u001b[0m\u001b[0m\n\u001b[0m\u001b[1;32m      6\u001b[0m \u001b[0mprint\u001b[0m\u001b[0;34m(\u001b[0m\u001b[0mcar\u001b[0m\u001b[0;34m.\u001b[0m\u001b[0m_Car__speed\u001b[0m\u001b[0;34m)\u001b[0m     \u001b[0;31m# ✅ Name mangling workaround\u001b[0m\u001b[0;34m\u001b[0m\u001b[0;34m\u001b[0m\u001b[0m\n",
            "\u001b[0;31mAttributeError\u001b[0m: 'Car' object has no attribute '__speed'"
          ]
        }
      ]
    },
    {
      "cell_type": "markdown",
      "source": [
        "  4) Using Getter and Setter Methods\n",
        "    \n",
        "    - To access or modify private attributes, you use methods:\n"
      ],
      "metadata": {
        "id": "dbvdzdvJMaQD"
      }
    },
    {
      "cell_type": "code",
      "source": [
        "# Example:\n",
        "\n",
        "class Car:\n",
        "    def __init__(self, make, speed):\n",
        "        self.make = make\n",
        "        self.__speed = speed\n",
        "\n",
        "    def get_speed(self):\n",
        "        return self.__speed\n",
        "\n",
        "    def set_speed(self, speed):\n",
        "        if speed > 0:\n",
        "            self.__speed = speed\n",
        "\n",
        "car = Car(\"Toyota\", 100)\n",
        "print(car.get_speed())  # 100\n",
        "car.set_speed(120)\n",
        "print(car.get_speed())  # 120\n"
      ],
      "metadata": {
        "id": "b8EDLn6HMTZp"
      },
      "execution_count": null,
      "outputs": []
    },
    {
      "cell_type": "markdown",
      "source": [
        "  Summary:\n",
        "  - Encapsulation keeps internal data safe from outside interference.\n",
        "\n",
        "  - Python achieves it using classes, private variables, and getter/setter methods.\n",
        "\n",
        "  - True access restriction isn't enforced, but conventions and name mangling serve the purpose.\n",
        "\n"
      ],
      "metadata": {
        "id": "96HDc2g3Mppy"
      }
    },
    {
      "cell_type": "markdown",
      "source": [
        "Q9. What is a constructor in Python ?\n",
        "  \n",
        "  - A constructor in Python is a special method used to initialize an object when it is created from a class.\n",
        "\n",
        "    Key Points:\n",
        "\n",
        "    1) The constructor method in Python is called __init__().\n",
        "\n",
        "    2) It is automatically called when you create a new object of the class.\n",
        "\n",
        "    3) It sets up the initial state of the object (i.e., assigns values to the object’s attributes).\n",
        "\n"
      ],
      "metadata": {
        "id": "7KCf0b78MygA"
      }
    },
    {
      "cell_type": "code",
      "source": [
        "# Syntax Example:\n",
        "\n",
        "class Person:\n",
        "    def __init__(self, name, age):  # Constructor\n",
        "        self.name = name\n",
        "        self.age = age\n",
        "\n",
        "# Creating an object of the class\n",
        "p1 = Person(\"Alice\", 25)\n",
        "\n",
        "print(p1.name)  # Output: Alice\n",
        "print(p1.age)   # Output: 25\n"
      ],
      "metadata": {
        "id": "vEJmFg_yMmfR"
      },
      "execution_count": null,
      "outputs": []
    },
    {
      "cell_type": "markdown",
      "source": [
        "  What Happens Here?\n",
        "  \n",
        "  - __init__ runs automatically when Person(\"Alice\", 25) is called.\n",
        "\n",
        "  - self.name = name and self.age = age assign values to the object p1.\n",
        "\n",
        "\n",
        "\n",
        "  Why Use a Constructor?\n",
        "\n",
        "  - To ensure each object is initialized with proper values.\n",
        "\n",
        "  - To reduce repetition when creating multiple objects.\n",
        "\n"
      ],
      "metadata": {
        "id": "ZK0M6GvKNZui"
      }
    },
    {
      "cell_type": "markdown",
      "source": [
        "Q10. What are class and static methods in Python ?\n",
        "  \n",
        "  - In Python, class methods and static methods are two types of methods that are not bound to an instance of the class. Here's a breakdown of what they are and how they differ:\n",
        "\n",
        "  1) Class Methods\n",
        "    \n",
        "    - Definition: A method that is bound to the class and not the instance of the class.\n",
        "\n",
        "    - Declared using: @classmethod decorator.\n",
        "\n",
        "    - First parameter: cls (refers to the class itself).\n",
        "\n",
        "Use Case:\n",
        "\n",
        "- Used when you need to access or modify the class state (e.g., modify a class variable)."
      ],
      "metadata": {
        "id": "8qLkR7HYNwGZ"
      }
    },
    {
      "cell_type": "code",
      "source": [
        "# Example:\n",
        "\n",
        "class MyClass:\n",
        "    count = 0\n",
        "\n",
        "    @classmethod\n",
        "    def increment_count(cls):\n",
        "        cls.count += 1\n",
        "        return cls.count\n",
        "\n",
        "print(MyClass.increment_count())  # Output: 1\n",
        "print(MyClass.increment_count())  # Output: 2\n"
      ],
      "metadata": {
        "id": "-5yoS8lVNW6o"
      },
      "execution_count": null,
      "outputs": []
    },
    {
      "cell_type": "markdown",
      "source": [
        "  2) Static Methods\n",
        "\n",
        "  - Definition: A method that is not bound to the class or the instance.\n",
        "  - Declared using: @staticmethod decorator.\n",
        "  - Takes no special first parameter (self or cls are not used).\n",
        "\n",
        "Use Case:\n",
        "\n",
        "- Used when you want to do something related to the class but don’t need to access or modify class or instance attributes.\n",
        "\n"
      ],
      "metadata": {
        "id": "rOUjlyVuOWag"
      }
    },
    {
      "cell_type": "code",
      "source": [
        "#  Example:\n",
        "\n",
        "\n",
        "class MathHelper:\n",
        "\n",
        "    @staticmethod\n",
        "    def add(x, y):\n",
        "        return x + y\n",
        "\n",
        "print(MathHelper.add(5, 3))  # Output: 8\n"
      ],
      "metadata": {
        "id": "dFNEjUPFOUCp"
      },
      "execution_count": null,
      "outputs": []
    },
    {
      "cell_type": "markdown",
      "source": [
        "Q11. What is method overloading in Python ?\n",
        "  \n",
        "  - Method Overloading in Python refers to the ability to define multiple methods with the same name but with different parameters. However, unlike some other programming languages like Java or C++, Python does not support method overloading directly.\n",
        "\n",
        "\n",
        "\n",
        "  Why?\n",
        "\n",
        "  In Python, if you define multiple methods with the same name, the last one overrides the previous ones."
      ],
      "metadata": {
        "id": "FIqw9pVsOzsI"
      }
    },
    {
      "cell_type": "code",
      "source": [
        "# Example – Not real overloading:\n",
        "\n",
        "class Example:\n",
        "    def show(self, a):\n",
        "        print(\"One argument:\", a)\n",
        "\n",
        "    def show(self, a, b):\n",
        "        print(\"Two arguments:\", a, b)\n",
        "\n",
        "obj = Example()\n",
        "obj.show(1, 2)  # Works\n",
        "# obj.show(1)   # Error: missing 1 required positional argument\n"
      ],
      "metadata": {
        "id": "OxXtyYQTOs-I"
      },
      "execution_count": null,
      "outputs": []
    },
    {
      "cell_type": "markdown",
      "source": [
        "  In this case, only the second show method is kept — the first one is overridden.\n",
        "\n",
        "How to simulate method overloading in Python?\n",
        "\n",
        "  - You can simulate it using default arguments or variable-length arguments.\n"
      ],
      "metadata": {
        "id": "FmSh1wnDPTCR"
      }
    },
    {
      "cell_type": "code",
      "source": [
        "# Using Default Arguments:\n",
        "\n",
        "class Example:\n",
        "    def show(self, a=None, b=None):\n",
        "        if a is not None and b is not None:\n",
        "            print(\"Two arguments:\", a, b)\n",
        "        elif a is not None:\n",
        "            print(\"One argument:\", a)\n",
        "        else:\n",
        "            print(\"No arguments\")\n",
        "\n",
        "obj = Example()\n",
        "obj.show()\n",
        "obj.show(1)\n",
        "obj.show(1, 2)\n"
      ],
      "metadata": {
        "id": "wro-Vv6pPQQI"
      },
      "execution_count": null,
      "outputs": []
    },
    {
      "cell_type": "code",
      "source": [
        "# Using *args:\n",
        "\n",
        "class Example:\n",
        "    def show(self, *args):\n",
        "        for arg in args:\n",
        "            print(arg)\n",
        "\n",
        "obj = Example()\n",
        "obj.show()\n",
        "obj.show(1)\n",
        "obj.show(1, 2, 3)\n"
      ],
      "metadata": {
        "id": "UJZeCBS_PqZP"
      },
      "execution_count": null,
      "outputs": []
    },
    {
      "cell_type": "markdown",
      "source": [
        "  Summary:\n",
        "\n",
        "  - Python doesn't support true method overloading like Java/C++.\n",
        "\n",
        "  - But you can simulate it using:\n",
        "\n",
        "    - Default parameters\n",
        "\n",
        "    - *args / **kwargs\n",
        "\n",
        "    - Type checking (using isinstance or type())\n",
        "\n",
        "\n",
        "\n"
      ],
      "metadata": {
        "id": "yONfyo32Pza5"
      }
    },
    {
      "cell_type": "markdown",
      "source": [
        "Q12. What is method overriding in OOP ?\n",
        "\n",
        "  - Method Overriding in Object-Oriented Programming (OOP) is a feature that allows a subclass (child class) to provide a specific implementation of a method that is already defined in its superclass (parent class).\n",
        "\n",
        "\n",
        "  Key Points of Method Overriding:\n",
        "  \n",
        "  1) Same method name in both parent and child classes.\n",
        "\n",
        "  2) Same parameters (signature) in both methods.\n",
        "\n",
        "  3) The method in the child class \"overrides\" the method in the parent class.\n",
        "\n",
        "  4) Used to achieve runtime polymorphism (or dynamic method dispatch).\n",
        "\n",
        "\n",
        "\n"
      ],
      "metadata": {
        "id": "09TUGKwiXSCP"
      }
    },
    {
      "cell_type": "markdown",
      "source": [
        "  Why use Method Overriding?\n",
        "  \n",
        "  - To change or customize the behavior of a method inherited from the parent class.\n",
        "\n"
      ],
      "metadata": {
        "id": "-vaYJLo2X-YJ"
      }
    },
    {
      "cell_type": "code",
      "source": [
        "# Example:\n",
        "\n",
        "\n",
        "class Animal:\n",
        "    def speak(self):\n",
        "        print(\"Animal speaks\")\n",
        "\n",
        "class Dog(Animal):\n",
        "    def speak(self):  # Overriding the speak() method of Animal\n",
        "        print(\"Dog barks\")\n",
        "\n",
        "# Usage\n",
        "a = Animal()\n",
        "a.speak()   # Output: Animal speaks\n",
        "\n",
        "d = Dog()\n",
        "d.speak()   # Output: Dog barks\n"
      ],
      "metadata": {
        "colab": {
          "base_uri": "https://localhost:8080/"
        },
        "id": "G4BXl0eGPv44",
        "outputId": "883e4d09-9b36-4744-ab1f-7f7021934c6f"
      },
      "execution_count": 54,
      "outputs": [
        {
          "output_type": "stream",
          "name": "stdout",
          "text": [
            "Animal speaks\n",
            "Dog barks\n"
          ]
        }
      ]
    },
    {
      "cell_type": "markdown",
      "source": [
        "  Here, the Dog class overrides the speak() method of the Animal class.\n",
        "\n",
        "\n",
        "Note:\n",
        "\n",
        "  - In Python, overriding happens automatically when a child class defines a method with the same name and parameters as the parent.\n",
        "\n",
        "  - If you still want to call the parent method inside the overridden method, use super():\n"
      ],
      "metadata": {
        "id": "er6Iv9AGYNWZ"
      }
    },
    {
      "cell_type": "code",
      "source": [
        "# Example:\n",
        "\n",
        "\n",
        "class Dog(Animal):\n",
        "    def speak(self):\n",
        "        super().speak()  # Calls Animal's speak\n",
        "        print(\"Dog barks\")\n"
      ],
      "metadata": {
        "id": "bb3QVuyuYIoI"
      },
      "execution_count": 56,
      "outputs": []
    },
    {
      "cell_type": "markdown",
      "source": [
        "Q13. What is a property decorator in Python ?\n",
        "\n",
        "  - In Python, a property decorator (@property) is used to define a getter method for a class attribute, allowing you to access the method like an attribute — without using parentheses.\n",
        "\n",
        "Why use @property?\n",
        "  \n",
        "  - It allows you to:\n",
        "    \n",
        "    - Control read access to private attributes.\n",
        "\n",
        "    - Add logic when getting the value of an attribute.\n",
        "\n",
        "    - Make your class interface clean and Pythonic.\n",
        "\n",
        "\n",
        "\n"
      ],
      "metadata": {
        "id": "lO0CZe4WYnxo"
      }
    },
    {
      "cell_type": "code",
      "source": [
        "# Basic Example:\n",
        "\n",
        "class Circle:\n",
        "    def __init__(self, radius):\n",
        "        self._radius = radius\n",
        "\n",
        "    @property\n",
        "    def radius(self):\n",
        "        return self._radius\n",
        "\n",
        "    @property\n",
        "    def area(self):\n",
        "        return 3.14 * self._radius ** 2\n"
      ],
      "metadata": {
        "id": "tUK5EOO8Ygp_"
      },
      "execution_count": 57,
      "outputs": []
    },
    {
      "cell_type": "code",
      "source": [
        "# How it works:\n",
        "\n",
        "c = Circle(5)\n",
        "print(c.radius)  # Accesses method like an attribute\n",
        "print(c.area)    # Also works like an attribute, not a method call\n"
      ],
      "metadata": {
        "colab": {
          "base_uri": "https://localhost:8080/"
        },
        "id": "JjRDU-OrZLrA",
        "outputId": "3d508bc5-3a09-4c51-e8d3-d58023c091e9"
      },
      "execution_count": 58,
      "outputs": [
        {
          "output_type": "stream",
          "name": "stdout",
          "text": [
            "5\n",
            "78.5\n"
          ]
        }
      ]
    },
    {
      "cell_type": "code",
      "source": [],
      "metadata": {
        "id": "mUgO45d9ZQlv"
      },
      "execution_count": null,
      "outputs": []
    },
    {
      "cell_type": "markdown",
      "source": [
        "Adding a Setter:\n",
        "  \n",
        "  - You can also set a value using @<property_name>.setter\n"
      ],
      "metadata": {
        "id": "SfZYxIDIZUQB"
      }
    },
    {
      "cell_type": "code",
      "source": [
        "# Example:\n",
        "\n",
        "class Circle:\n",
        "    def __init__(self, radius):\n",
        "        self._radius = radius\n",
        "\n",
        "    @property\n",
        "    def radius(self):\n",
        "        return self._radius\n",
        "\n",
        "    @radius.setter\n",
        "    def radius(self, value):\n",
        "        if value < 0:\n",
        "            raise ValueError(\"Radius cannot be negative\")\n",
        "        self._radius = value\n"
      ],
      "metadata": {
        "id": "iDIq8uTrZaSO"
      },
      "execution_count": 59,
      "outputs": []
    },
    {
      "cell_type": "code",
      "source": [
        "c = Circle(5)\n",
        "c.radius = 10   # Setter is used here\n"
      ],
      "metadata": {
        "id": "q3ZciRSzZeSO"
      },
      "execution_count": 62,
      "outputs": []
    },
    {
      "cell_type": "markdown",
      "source": [
        "Summary:\n",
        "  \n",
        "  - @property: Makes a method behave like an attribute.\n",
        "\n",
        "  - Used to create read-only, computed, or validated attributes.\n",
        "\n",
        "  - Helps with encapsulation and cleaner syntax.\n",
        "\n"
      ],
      "metadata": {
        "id": "Jn46Mhl3ZnLB"
      }
    },
    {
      "cell_type": "markdown",
      "source": [
        "Q14. Why is polymorphism important in OOP ?\n",
        "\n",
        "  - Polymorphism is a key concept in Object-Oriented Programming (OOP), and it’s important because it allows objects of different classes to be treated as objects of a common superclass. This enables flexibility and scalability in code design. Here's why it's important:\n",
        "\n",
        "Why Polymorphism is Important in OOP:\n",
        "\n",
        "  1) Code Reusability\n",
        "    \n",
        "  - You can write generic code that works with different types of objects.\n",
        "\n",
        "  - Example: A function can take a parent class reference but work with any subclass object.\n",
        "\n",
        "\n",
        "  2) Extensibility\n",
        "\n",
        "  - You can add new classes that implement the same interface or inherit the same base class without changing existing code.\n",
        "\n",
        "  - Makes the code easier to extend with new features.\n",
        "\n",
        "\n",
        "  3) Improved Maintainability\n",
        "\n",
        "  - Since common behaviors are handled through base classes, changes in logic can often be made in one place (base class) instead of updating multiple classes.\n",
        "\n",
        "\n",
        "  4) Simplifies Code Logic\n",
        "\n",
        "  - You don’t have to write code for every type of object separately.\n",
        "\n",
        "  - Helps in implementing dynamic method resolution—the correct method is called based on the object’s actual type at runtime.\n",
        "\n",
        "\n",
        "  5) Supports Loose Coupling\n",
        "\n",
        "  - Reduces dependencies between components, making the system more modular and easier to test.\n",
        "\n",
        "\n",
        "\n",
        "\n"
      ],
      "metadata": {
        "id": "2dgPHXohZ1sB"
      }
    },
    {
      "cell_type": "markdown",
      "source": [
        "  Types of Polymorphism in OOP:\n",
        "   \n",
        "  1) Compile-time (Static) Polymorphism – Achieved using method overloading or operator overloading.\n",
        "\n",
        "  2) Runtime (Dynamic) Polymorphism – Achieved using method overriding (with inheritance).\n",
        "\n"
      ],
      "metadata": {
        "id": "ArQbDyh_bDqo"
      }
    },
    {
      "cell_type": "code",
      "source": [
        "# Example (Runtime Polymorphism):\n",
        "\n",
        "class Animal:\n",
        "    def speak(self):\n",
        "        print(\"Animal speaks\")\n",
        "\n",
        "class Dog(Animal):\n",
        "    def speak(self):\n",
        "        print(\"Dog barks\")\n",
        "\n",
        "class Cat(Animal):\n",
        "    def speak(self):\n",
        "        print(\"Cat meows\")\n",
        "\n",
        "def make_sound(animal):\n",
        "    animal.speak()\n",
        "\n",
        "make_sound(Dog())  # Output: Dog barks\n",
        "make_sound(Cat())  # Output: Cat meows\n"
      ],
      "metadata": {
        "colab": {
          "base_uri": "https://localhost:8080/"
        },
        "id": "0CRHJS_9ZgWA",
        "outputId": "f7983ddf-b79e-4eea-fd3f-f8816c05e1b3"
      },
      "execution_count": 63,
      "outputs": [
        {
          "output_type": "stream",
          "name": "stdout",
          "text": [
            "Dog barks\n",
            "Cat meows\n"
          ]
        }
      ]
    },
    {
      "cell_type": "markdown",
      "source": [
        "  Here, make_sound() works with any subclass of Animal—this is the power of polymorphism."
      ],
      "metadata": {
        "id": "eKil5ek6bYFm"
      }
    },
    {
      "cell_type": "markdown",
      "source": [
        "Q15. What is an abstract class in Python ?\n",
        "\n",
        "  - An abstract class in Python is a class that cannot be instantiated directly and is meant to be inherited by other classes. It is used to define a common interface or blueprint for its subclasses.\n",
        "\n",
        "Key Points:\n",
        "\n",
        "  - Abstract classes contain one or more abstract methods.\n",
        "\n",
        "  - An abstract method is a method that is declared but contains no implementation.\n",
        "\n",
        "  - Abstract classes are created using the ABC (Abstract Base Class) module from Python’s abc module.\n",
        "\n"
      ],
      "metadata": {
        "id": "ZvBQqt0tbfSv"
      }
    },
    {
      "cell_type": "code",
      "source": [
        "# How to Define an Abstract Class:\n",
        "\n",
        "from abc import ABC, abstractmethod\n",
        "\n",
        "class Animal(ABC):  # Inheriting from ABC makes it abstract\n",
        "\n",
        "    @abstractmethod\n",
        "    def sound(self):  # Abstract method\n",
        "        pass\n"
      ],
      "metadata": {
        "id": "o7ATe7lYbVS2"
      },
      "execution_count": 64,
      "outputs": []
    },
    {
      "cell_type": "markdown",
      "source": [
        "  You cannot create an object of Animal:"
      ],
      "metadata": {
        "id": "Z98-eC-sb_tA"
      }
    },
    {
      "cell_type": "code",
      "source": [
        "a = Animal()  # ❌ This will raise an error\n"
      ],
      "metadata": {
        "colab": {
          "base_uri": "https://localhost:8080/",
          "height": 141
        },
        "collapsed": true,
        "id": "B9VYDwYNb8QO",
        "outputId": "00ac356f-1d36-4996-ba67-b4a42f7c1397"
      },
      "execution_count": 67,
      "outputs": [
        {
          "output_type": "error",
          "ename": "TypeError",
          "evalue": "Can't instantiate abstract class Animal with abstract method sound",
          "traceback": [
            "\u001b[0;31m---------------------------------------------------------------------------\u001b[0m",
            "\u001b[0;31mTypeError\u001b[0m                                 Traceback (most recent call last)",
            "\u001b[0;32m/tmp/ipython-input-67-2141000929.py\u001b[0m in \u001b[0;36m<cell line: 0>\u001b[0;34m()\u001b[0m\n\u001b[0;32m----> 1\u001b[0;31m \u001b[0ma\u001b[0m \u001b[0;34m=\u001b[0m \u001b[0mAnimal\u001b[0m\u001b[0;34m(\u001b[0m\u001b[0;34m)\u001b[0m  \u001b[0;31m# ❌ This will raise an error\u001b[0m\u001b[0;34m\u001b[0m\u001b[0;34m\u001b[0m\u001b[0m\n\u001b[0m",
            "\u001b[0;31mTypeError\u001b[0m: Can't instantiate abstract class Animal with abstract method sound"
          ]
        }
      ]
    },
    {
      "cell_type": "code",
      "source": [
        "# Subclass Must Implement All Abstract Methods:\n",
        "\n",
        "class Dog(Animal):\n",
        "    def sound(self):\n",
        "        return \"Bark\"\n",
        "\n",
        "d = Dog()\n",
        "print(d.sound())  # Output: Bark\n"
      ],
      "metadata": {
        "colab": {
          "base_uri": "https://localhost:8080/"
        },
        "id": "-8lyDNHUcJxe",
        "outputId": "55beb76c-bb4e-4fc1-87c8-338a650a40b7"
      },
      "execution_count": 68,
      "outputs": [
        {
          "output_type": "stream",
          "name": "stdout",
          "text": [
            "Bark\n"
          ]
        }
      ]
    },
    {
      "cell_type": "markdown",
      "source": [
        "  Why Use Abstract Classes?\n",
        "\n",
        "  - To define a template or interface for other classes.\n",
        "\n",
        "  - To enforce method implementation in derived classes.\n",
        "\n",
        "  - Helps in polymorphism and code organization.\n",
        "\n"
      ],
      "metadata": {
        "id": "QmCdwhnRcRQ4"
      }
    },
    {
      "cell_type": "markdown",
      "source": [
        "Q16. What are the advantages of OOP ?\n",
        "\n",
        "  - Object-Oriented Programming (OOP) offers several key advantages that make it a popular programming paradigm, especially for large and complex software systems. Here are the main benefits:\n",
        "\n",
        "  1) Modularity\n",
        "\n",
        "   - Code is organized into classes and objects, making it easier to manage.\n",
        "   - Each class is a separate, self-contained module.\n",
        "\n",
        "  2) Reusability\n",
        "\n",
        "    - Classes can be reused across programs.\n",
        "    - Inheritance allows a new class to reuse code from an existing class.\n",
        "\n",
        "  3) Encapsulation\n",
        "\n",
        "    - Keeps data and methods together in a class.\n",
        "\n",
        "    - Protects internal object details using access modifiers (like private/public).\n",
        "\n",
        "    - Helps in hiding complexity and only exposing necessary parts.\n",
        "\n",
        "\n",
        "  \n",
        "\n"
      ],
      "metadata": {
        "id": "slgOv19ocduH"
      }
    },
    {
      "cell_type": "markdown",
      "source": [
        "  4) Maintainability\n",
        "\n",
        "    - Easier to update and modify code.\n",
        "    - Changes in one part of the program can be made with minimal impact on others.\n",
        "\n",
        "\n",
        "  5) Scalability\n",
        "\n",
        "    - Easier to scale applications by adding new classes/objects.\n",
        "    - Promotes cleaner code structure, which helps when projects grow.\n",
        "\n",
        "  6) Abstraction\n",
        "\n",
        "    - Allows developers to focus on what an object does, not how it does it.\n",
        "    - Complex implementations are hidden behind simple interfaces.\n",
        "\n",
        "\n",
        "  7) Flexibility Through Polymorphism\n",
        "\n",
        "    - The same method name can work differently for different classes (method overloading/overriding).\n",
        "    - Enhances flexibility and code extensibility.\n",
        "\n",
        "\n",
        "  8) Real-World Modeling\n",
        "\n",
        "    - OOP models real-world entities more naturally using objects.\n",
        "    - Makes code easier to understand and relate to.\n",
        "\n"
      ],
      "metadata": {
        "id": "jwH5xS9tdhqQ"
      }
    },
    {
      "cell_type": "markdown",
      "source": [
        "Q17. What is the difference between a class variable and an instance variable ?\n",
        "   \n",
        "  - The difference between a class variable and an instance variable in Python (or any object-oriented programming language) lies in how and where the variable is stored and accessed.\n",
        "\n",
        "Class Variable:\n",
        "    \n",
        "    - Shared across all instances of the class.\n",
        "    - Defined inside the class, but outside any method.\n",
        "    - Changing the class variable affects all instances that haven't overridden it.\n",
        "\n",
        "\n"
      ],
      "metadata": {
        "id": "_TzogmpDeXki"
      }
    },
    {
      "cell_type": "code",
      "source": [
        "# Example:\n",
        "\n",
        "\n",
        "class Dog:\n",
        "    species = \"Canine\"  # Class variable\n",
        "\n",
        "    def __init__(self, name):\n",
        "        self.name = name  # Instance variable\n",
        "\n",
        "dog1 = Dog(\"Tommy\")\n",
        "dog2 = Dog(\"Rex\")\n",
        "\n",
        "print(dog1.species)  # Output: Canine\n",
        "print(dog2.species)  # Output: Canine\n",
        "\n",
        "Dog.species = \"Wolf\"\n",
        "\n",
        "print(dog1.species)  # Output: Wolf\n",
        "print(dog2.species)  # Output: Wolf\n"
      ],
      "metadata": {
        "colab": {
          "base_uri": "https://localhost:8080/"
        },
        "id": "h-u44QWpcEJB",
        "outputId": "e79ad73f-398e-4725-f74e-6fd560d87bf7"
      },
      "execution_count": 69,
      "outputs": [
        {
          "output_type": "stream",
          "name": "stdout",
          "text": [
            "Canine\n",
            "Canine\n",
            "Wolf\n",
            "Wolf\n"
          ]
        }
      ]
    },
    {
      "cell_type": "markdown",
      "source": [
        "  Instance Variable:\n",
        "\n",
        "  - Unique to each instance of the class.\n",
        "  - Defined using self.variable_name, usually inside the __init__ method or other instance methods.\n",
        "  - Changing an instance variable only affects that specific object.\n",
        "  "
      ],
      "metadata": {
        "id": "L3j9weILfBRQ"
      }
    },
    {
      "cell_type": "code",
      "source": [
        "# Example:\n",
        "\n",
        "\n",
        "dog1.name = \"Buddy\"\n",
        "print(dog1.name)  # Output: Buddy\n",
        "print(dog2.name)  # Output: Rex\n"
      ],
      "metadata": {
        "colab": {
          "base_uri": "https://localhost:8080/"
        },
        "id": "mkbY800Ae8VI",
        "outputId": "7f0685ee-f25e-4855-f082-654b9f475784"
      },
      "execution_count": 70,
      "outputs": [
        {
          "output_type": "stream",
          "name": "stdout",
          "text": [
            "Buddy\n",
            "Rex\n"
          ]
        }
      ]
    },
    {
      "cell_type": "code",
      "source": [],
      "metadata": {
        "id": "fR3WtZdMfQ5g"
      },
      "execution_count": null,
      "outputs": []
    },
    {
      "cell_type": "markdown",
      "source": [
        "Q18. What is multiple inheritance in Python ?\n",
        "  \n",
        "  - Multiple inheritance in Python is a feature that allows a class to inherit attributes and methods from more than one parent class. This means a child class can access the properties and behaviors of multiple base classes.\n",
        "\n",
        "  "
      ],
      "metadata": {
        "id": "jSY3yZCxfUXo"
      }
    },
    {
      "cell_type": "code",
      "source": [
        "# Syntax:\n",
        "\n",
        "class Parent1:\n",
        "    def method1(self):\n",
        "        print(\"Method from Parent1\")\n",
        "\n",
        "class Parent2:\n",
        "    def method2(self):\n",
        "        print(\"Method from Parent2\")\n",
        "\n",
        "class Child(Parent1, Parent2):\n",
        "    pass\n",
        "\n",
        "# Creating object of Child class\n",
        "c = Child()\n",
        "c.method1()  # Output: Method from Parent1\n",
        "c.method2()  # Output: Method from Parent2\n"
      ],
      "metadata": {
        "colab": {
          "base_uri": "https://localhost:8080/"
        },
        "id": "7ytVXhgIfjqQ",
        "outputId": "af9514c0-c194-4e1d-adc2-1f6541d92105"
      },
      "execution_count": 71,
      "outputs": [
        {
          "output_type": "stream",
          "name": "stdout",
          "text": [
            "Method from Parent1\n",
            "Method from Parent2\n"
          ]
        }
      ]
    },
    {
      "cell_type": "markdown",
      "source": [
        "  Key Concepts:\n",
        "\n",
        "  - Python resolves method calls using the Method Resolution Order (MRO).\n",
        "\n",
        "  - If two parent classes have a method with the same name, Python uses the method from the class that appears first in the inheritance list.\n",
        "\n"
      ],
      "metadata": {
        "id": "knF7tK6lfo6w"
      }
    },
    {
      "cell_type": "code",
      "source": [
        "# Example with Overlapping Methods:\n",
        "\n",
        "\n",
        "class A:\n",
        "    def greet(self):\n",
        "        print(\"Hello from A\")\n",
        "\n",
        "class B:\n",
        "    def greet(self):\n",
        "        print(\"Hello from B\")\n",
        "\n",
        "class C(A, B):\n",
        "    pass\n",
        "\n",
        "c = C()\n",
        "c.greet()  # Output: Hello from A (A comes before B in C's definition)\n",
        "\n"
      ],
      "metadata": {
        "colab": {
          "base_uri": "https://localhost:8080/"
        },
        "id": "vtVunmRkfmYw",
        "outputId": "48270c64-bad4-4f9c-e224-b9404adfde2a"
      },
      "execution_count": 72,
      "outputs": [
        {
          "output_type": "stream",
          "name": "stdout",
          "text": [
            "Hello from A\n"
          ]
        }
      ]
    },
    {
      "cell_type": "markdown",
      "source": [
        "  Pros:\n",
        "\n",
        "  - Code reuse from multiple classes.\n",
        "\n",
        "  - Useful when a class needs functionalities from different sources.\n",
        "\n",
        "  Cons:\n",
        "\n",
        "  - Can become complex and harder to debug.\n",
        "\n",
        "  - Method name conflicts need to be carefully managed using MRO.\n",
        "\n"
      ],
      "metadata": {
        "id": "WcvmDZfYf40P"
      }
    },
    {
      "cell_type": "markdown",
      "source": [
        "Q19. Explain the purpose of ‘’__str__’ and ‘__repr__’ ‘ methods in Python ?\n",
        "\n",
        "  - In Python, the __str__ and __repr__ methods are special (or magic) methods used to define how an object should be represented as a string. These methods are useful for debugging and displaying objects in a readable format.\n",
        "\n",
        "1)  __str__ Method\n",
        "    \n",
        "    - Purpose: Defines the “informal” or nicely printable string representation of an object.\n",
        "    - Used by: print() and str()\n",
        "    - Goal: User-friendly representation.\n"
      ],
      "metadata": {
        "id": "487yB-R4gJ13"
      }
    },
    {
      "cell_type": "code",
      "source": [
        "# Example:\n",
        "\n",
        "\n",
        "\n",
        "class Person:\n",
        "    def __init__(self, name):\n",
        "        self.name = name\n",
        "\n",
        "    def __str__(self):\n",
        "        return f\"Person's name is {self.name}\"\n",
        "\n",
        "p = Person(\"Chetan\")\n",
        "print(p)  # Output: Person's name is Chetan\n"
      ],
      "metadata": {
        "colab": {
          "base_uri": "https://localhost:8080/"
        },
        "id": "lBffC_bwf0mX",
        "outputId": "69e7c9d4-36fb-4168-a2cb-3494b934ce14"
      },
      "execution_count": 73,
      "outputs": [
        {
          "output_type": "stream",
          "name": "stdout",
          "text": [
            "Person's name is Chetan\n"
          ]
        }
      ]
    },
    {
      "cell_type": "markdown",
      "source": [
        "2) __repr__ Method\n",
        "\n",
        "    - Purpose: Defines the “official” string representation of an object.\n",
        "    - Used by: repr() and the Python interpreter (like in a shell or debugger).\n",
        "    - Goal: Developer-friendly and unambiguous representation, often valid Python code.\n",
        "\n"
      ],
      "metadata": {
        "id": "7wbHb2aehHsH"
      }
    },
    {
      "cell_type": "code",
      "source": [
        "# Example:\n",
        "\n",
        "\n",
        "class Person:\n",
        "    def __init__(self, name):\n",
        "        self.name = name\n",
        "\n",
        "    def __repr__(self):\n",
        "        return f\"Person('{self.name}')\"\n",
        "\n",
        "p = Person(\"Chetan\")\n",
        "print(repr(p))  # Output: Person('Chetan')\n"
      ],
      "metadata": {
        "colab": {
          "base_uri": "https://localhost:8080/"
        },
        "id": "6PUT-k14hDdg",
        "outputId": "298ebbbe-caeb-4ade-999a-174b4be7c95f"
      },
      "execution_count": 74,
      "outputs": [
        {
          "output_type": "stream",
          "name": "stdout",
          "text": [
            "Person('Chetan')\n"
          ]
        }
      ]
    },
    {
      "cell_type": "code",
      "source": [
        "# Both Together:\n",
        "\n",
        "\n",
        "class Person:\n",
        "    def __init__(self, name):\n",
        "        self.name = name\n",
        "\n",
        "    def __str__(self):\n",
        "        return f\"My name is {self.name}\"\n",
        "\n",
        "    def __repr__(self):\n",
        "        return f\"Person('{self.name}')\"\n",
        "\n",
        "p = Person(\"Chetan\")\n",
        "print(p)        # Uses __str__: My name is Chetan\n",
        "print(repr(p))  # Uses __repr__: Person('Chetan')\n"
      ],
      "metadata": {
        "colab": {
          "base_uri": "https://localhost:8080/"
        },
        "id": "eUfw4JCZhk4L",
        "outputId": "66db4b44-a409-4781-f732-0d9ba93a7d95"
      },
      "execution_count": 75,
      "outputs": [
        {
          "output_type": "stream",
          "name": "stdout",
          "text": [
            "My name is Chetan\n",
            "Person('Chetan')\n"
          ]
        }
      ]
    },
    {
      "cell_type": "markdown",
      "source": [
        "Q20.  What is the significance of the ‘super()’ function in Python ?\n",
        "  \n",
        "  - The super() function in Python is used to call methods from a parent (or superclass) inside a child (or subclass). It is especially important in inheritance scenarios.\n",
        "\n",
        "Significance of super() in Python:\n",
        "\n",
        "  1) Accessing Parent Class Methods:\n",
        "    \n",
        "    - It allows you to call a method (like __init__) from the parent class without explicitly naming it, which makes your code more maintainable.\n",
        "\n"
      ],
      "metadata": {
        "id": "CFFmU8vEhrfZ"
      }
    },
    {
      "cell_type": "code",
      "source": [
        "# Example:\n",
        "\n",
        "class Parent:\n",
        "    def show(self):\n",
        "        print(\"This is Parent class\")\n",
        "\n",
        "class Child(Parent):\n",
        "    def show(self):\n",
        "        super().show()\n",
        "        print(\"This is Child class\")\n",
        "\n",
        "obj = Child()\n",
        "obj.show()\n"
      ],
      "metadata": {
        "colab": {
          "base_uri": "https://localhost:8080/"
        },
        "id": "HAVaC8QghcSu",
        "outputId": "9f648091-8060-4f5b-fd83-9d5d867e6bf3"
      },
      "execution_count": 76,
      "outputs": [
        {
          "output_type": "stream",
          "name": "stdout",
          "text": [
            "This is Parent class\n",
            "This is Child class\n"
          ]
        }
      ]
    },
    {
      "cell_type": "markdown",
      "source": [
        "2) Avoids Repetition:\n",
        "\n",
        "  - Instead of rewriting the logic from the parent class, super() reuses it.\n",
        "\n",
        "3) Supports Multiple Inheritance:\n",
        "\n",
        "  - It respects Method Resolution Order (MRO) in complex inheritance, ensuring each parent class is initialized only once in a predictable order.\n",
        "\n"
      ],
      "metadata": {
        "id": "3VVpZR_miNF3"
      }
    },
    {
      "cell_type": "code",
      "source": [
        "# Example:\n",
        "\n",
        "class A:\n",
        "    def __init__(self):\n",
        "        print(\"A\")\n",
        "\n",
        "class B(A):\n",
        "    def __init__(self):\n",
        "        super().__init__()\n",
        "        print(\"B\")\n",
        "\n",
        "class C(B):\n",
        "    def __init__(self):\n",
        "        super().__init__()\n",
        "        print(\"C\")\n",
        "\n",
        "obj = C()\n"
      ],
      "metadata": {
        "colab": {
          "base_uri": "https://localhost:8080/"
        },
        "id": "KMSoxAp-iIg1",
        "outputId": "faab73ae-2b06-4b99-b327-7e76e8c210c5"
      },
      "execution_count": 77,
      "outputs": [
        {
          "output_type": "stream",
          "name": "stdout",
          "text": [
            "A\n",
            "B\n",
            "C\n"
          ]
        }
      ]
    },
    {
      "cell_type": "markdown",
      "source": [
        "4) Cleaner Syntax:\n",
        "\n",
        "  - Instead of writing ParentClass.__init__(self), you simply use super().__init__() — this is less error-prone and easier to refactor.\n",
        "\n",
        "\n",
        "Use super() when:\n",
        "\n",
        "  - You're overriding a method and still want to use the logic from the parent.\n",
        "\n",
        "  - You're working with inheritance, especially multiple inheritance.\n",
        "\n",
        "  - You're initializing parent class attributes inside a child class.\n",
        "\n"
      ],
      "metadata": {
        "id": "wqC-qb83igN-"
      }
    },
    {
      "cell_type": "markdown",
      "source": [
        "Q21. What is the significance of the __del__ method in Python ?\n",
        "\n",
        "  - In Python, the __del__ method is a destructor method, which is called when an object is about to be destroyed (i.e., when it is garbage collected).\n",
        "\n",
        "Significance of __del__:\n",
        "  \n",
        "  - It's used to define cleanup behavior for an object — like closing files, releasing network connections, or freeing up resources.\n",
        "\n",
        "  - Automatically invoked when there are no more references to the object.\n",
        "\n"
      ],
      "metadata": {
        "id": "8mIU_-ani0Q_"
      }
    },
    {
      "cell_type": "code",
      "source": [
        "# Syntax:\n",
        "\n",
        "class MyClass:\n",
        "    def __del__(self):\n",
        "        print(\"Destructor called, object deleted.\")\n"
      ],
      "metadata": {
        "id": "zDMLRGNmicFW"
      },
      "execution_count": 78,
      "outputs": []
    },
    {
      "cell_type": "code",
      "source": [
        "# Example:\n",
        "\n",
        "class FileHandler:\n",
        "    def __init__(self, filename):\n",
        "        self.file = open(filename, 'w')\n",
        "        print(\"File opened.\")\n",
        "\n",
        "    def __del__(self):\n",
        "        self.file.close()\n",
        "        print(\"File closed.\")\n",
        "\n",
        "obj = FileHandler('demo.txt')\n",
        "del obj  # This triggers the __del__ method\n"
      ],
      "metadata": {
        "colab": {
          "base_uri": "https://localhost:8080/"
        },
        "id": "aXJZnsl4kVLH",
        "outputId": "b002613e-795a-4b46-df35-769a40d61b21"
      },
      "execution_count": 79,
      "outputs": [
        {
          "output_type": "stream",
          "name": "stdout",
          "text": [
            "File opened.\n",
            "File closed.\n"
          ]
        }
      ]
    },
    {
      "cell_type": "markdown",
      "source": [
        "Important Notes:\n",
        "\n",
        "  - The timing of __del__ is not guaranteed, especially in complex programs or when using circular references.\n",
        "\n",
        "  - In some cases, especially with exceptions or reference cycles, __del__ might not be called.\n",
        "\n",
        "  - It's generally better to use context managers (with statement) for resource management.\n",
        "\n",
        "\n",
        "\n",
        "\n",
        "    Better Alternative:\n",
        "    - Use with and __enter__/__exit__ methods:\n",
        "\n"
      ],
      "metadata": {
        "id": "fn4ZWJAkkeOG"
      }
    },
    {
      "cell_type": "code",
      "source": [
        "# Example:\n",
        "\n",
        "with open('demo.txt', 'w') as file:\n",
        "    file.write(\"Hello\")\n",
        "# File is automatically closed here\n"
      ],
      "metadata": {
        "id": "CBui72PNkaZ3"
      },
      "execution_count": 80,
      "outputs": []
    },
    {
      "cell_type": "markdown",
      "source": [
        "Summary:\n",
        "\n",
        "  - __del__ is used for cleanup when an object is deleted.\n",
        "\n",
        "  - Use with caution — prefer context managers when possible for resource handling.\n",
        "\n",
        "\n",
        "\n",
        "\n",
        "\n",
        "\n",
        "\n",
        "\n",
        "\n"
      ],
      "metadata": {
        "id": "NkmiANM1kzcl"
      }
    },
    {
      "cell_type": "markdown",
      "source": [
        "Q22. What is the difference between @staticmethod and @classmethod in Python ?\n",
        "\n",
        "  - In Python, both @staticmethod and @classmethod are decorators used to define methods inside a class that aren't like regular instance methods. However, they serve different purposes and have different behaviors.\n",
        "\n",
        "    - @staticmethod\n",
        "      - A staticmethod does not take self or cls as the first argument.\n",
        "      - It does not know about the class or instance from which it is called.\n",
        "      - It behaves just like a regular function, but it lives in the class's namespace for organizational purposes.\n",
        "\n",
        "When to use:\n",
        "  \n",
        "  - When the method doesn't need to access or modify the class or instance—it just logically belongs in the class.\n",
        "\n",
        "\n",
        "\n",
        "\n",
        "\n"
      ],
      "metadata": {
        "id": "_wui6Ku4k8YP"
      }
    },
    {
      "cell_type": "code",
      "source": [
        "# Example:\n",
        "\n",
        "\n",
        "class Math:\n",
        "    @staticmethod\n",
        "    def add(x, y):\n",
        "        return x + y\n",
        "\n",
        "print(Math.add(3, 4))  # Output: 7\n"
      ],
      "metadata": {
        "colab": {
          "base_uri": "https://localhost:8080/"
        },
        "id": "T_rhW9N7kwil",
        "outputId": "395e9b27-8df5-4252-ff54-cc1eab61ccb7"
      },
      "execution_count": 81,
      "outputs": [
        {
          "output_type": "stream",
          "name": "stdout",
          "text": [
            "7\n"
          ]
        }
      ]
    },
    {
      "cell_type": "markdown",
      "source": [
        "- @classmethod\n",
        "  \n",
        "  - A classmethod takes cls (the class itself) as the first argument.\n",
        "\n",
        "  - It can access or modify class state, and can be used to create factory methods.\n",
        "\n",
        "\n",
        "When to use:\n",
        "  - When you need to access or modify the class, not an instance.\n",
        "\n",
        "\n",
        "\n"
      ],
      "metadata": {
        "id": "etUCn9sAlv6m"
      }
    },
    {
      "cell_type": "code",
      "source": [
        "# Example:\n",
        "\n",
        "class Person:\n",
        "    species = \"Homo sapiens\"\n",
        "\n",
        "    @classmethod\n",
        "    def get_species(cls):\n",
        "        return cls.species\n",
        "\n",
        "print(Person.get_species())  # Output: Homo sapiens\n"
      ],
      "metadata": {
        "colab": {
          "base_uri": "https://localhost:8080/"
        },
        "id": "utZPY66Tlpj2",
        "outputId": "e9085295-f8b0-4e93-e23a-e66817a084f2"
      },
      "execution_count": 82,
      "outputs": [
        {
          "output_type": "stream",
          "name": "stdout",
          "text": [
            "Homo sapiens\n"
          ]
        }
      ]
    },
    {
      "cell_type": "code",
      "source": [],
      "metadata": {
        "id": "kRbt452kmSde"
      },
      "execution_count": null,
      "outputs": []
    },
    {
      "cell_type": "markdown",
      "source": [
        "Q23. How does polymorphism work in Python with inheritance ?\n",
        "\n",
        "  - Polymorphism in Python allows objects of different classes to be treated as objects of a common superclass. It's especially powerful when used with inheritance, because it lets subclasses override or extend functionality while maintaining a consistent interface.\n",
        "\n",
        "How Polymorphism Works with Inheritance:\n",
        "    \n",
        "  - Let’s break it down step-by-step:\n",
        "\n",
        "    1) Base Class Defines a Method"
      ],
      "metadata": {
        "id": "x-11vS1OmV0A"
      }
    },
    {
      "cell_type": "code",
      "source": [
        "# Example:\n",
        "\n",
        "class Animal:\n",
        "    def speak(self):\n",
        "        return \"Some sound\"\n"
      ],
      "metadata": {
        "id": "ZFq6fp-cmuW-"
      },
      "execution_count": 83,
      "outputs": []
    },
    {
      "cell_type": "markdown",
      "source": [
        "    2) Derived Classes Override the Method\n",
        "    "
      ],
      "metadata": {
        "id": "OaHz5hU0mz34"
      }
    },
    {
      "cell_type": "code",
      "source": [
        "# Example:\n",
        "\n",
        "class Dog(Animal):\n",
        "    def speak(self):\n",
        "        return \"Bark\"\n",
        "\n",
        "class Cat(Animal):\n",
        "    def speak(self):\n",
        "        return \"Meow\"\n"
      ],
      "metadata": {
        "id": "Vb1h6XWbmw1e"
      },
      "execution_count": 84,
      "outputs": []
    },
    {
      "cell_type": "code",
      "source": [],
      "metadata": {
        "id": "ZYfe1Tpom9HX"
      },
      "execution_count": null,
      "outputs": []
    },
    {
      "cell_type": "markdown",
      "source": [
        "    3) Polymorphic Behavior\n",
        "      - You can call the same method (speak) on different objects, and it will behave differently depending on the object's class:"
      ],
      "metadata": {
        "id": "Yo8qM2ldm-Af"
      }
    },
    {
      "cell_type": "code",
      "source": [
        "# Example:\n",
        "\n",
        "animals = [Dog(), Cat(), Animal()]\n",
        "\n",
        "for animal in animals:\n",
        "    print(animal.speak())\n"
      ],
      "metadata": {
        "colab": {
          "base_uri": "https://localhost:8080/"
        },
        "id": "x5puApENnGOe",
        "outputId": "29593a20-36a6-4f76-bcee-c172e084d426"
      },
      "execution_count": 85,
      "outputs": [
        {
          "output_type": "stream",
          "name": "stdout",
          "text": [
            "Bark\n",
            "Meow\n",
            "Some sound\n"
          ]
        }
      ]
    },
    {
      "cell_type": "markdown",
      "source": [
        "Even though you're calling speak() in the same way, the actual method that gets executed depends on the object's actual class, not the reference type.\n",
        "\n",
        "\n",
        "Real-Life Example: Polymorphism with Functions\n",
        "\n",
        "  - You can also use polymorphism in functions that take the base class as a parameter:\n",
        "\n"
      ],
      "metadata": {
        "id": "FY-_ogjenNSn"
      }
    },
    {
      "cell_type": "code",
      "source": [
        "# Example:\n",
        "\n",
        "def make_animal_speak(animal):\n",
        "    print(animal.speak())\n",
        "\n",
        "make_animal_speak(Dog())   # Bark\n",
        "make_animal_speak(Cat())   # Meow\n"
      ],
      "metadata": {
        "colab": {
          "base_uri": "https://localhost:8080/"
        },
        "id": "e70iNGbgnIcP",
        "outputId": "4da69512-e89f-4a4e-be72-b347450e90eb"
      },
      "execution_count": 86,
      "outputs": [
        {
          "output_type": "stream",
          "name": "stdout",
          "text": [
            "Bark\n",
            "Meow\n"
          ]
        }
      ]
    },
    {
      "cell_type": "markdown",
      "source": [
        "Key Concepts:\n",
        "  \n",
        "  - Method Overriding: Subclasses can override methods of the superclass.\n",
        "  - Same interface, different behavior.\n",
        "  - You can use polymorphism to write clean, extensible, and flexible code.\n",
        "\n"
      ],
      "metadata": {
        "id": "N2vLgZr_nbJ3"
      }
    },
    {
      "cell_type": "markdown",
      "source": [
        "Q24. What is method chaining in Python OOP ?\n",
        "\n",
        "  - Method chaining in Python Object-Oriented Programming (OOP) is a technique where you call multiple methods on the same object in a single line, one after another. It allows you to write concise and readable code.\n",
        "\n",
        "How it works\n",
        "  \n",
        "  - Each method in the chain returns the object itself (self), allowing the next method to be called on it.\n",
        "\n"
      ],
      "metadata": {
        "id": "eKWRZ3ftnqg-"
      }
    },
    {
      "cell_type": "code",
      "source": [
        "# Example:\n",
        "\n",
        "class Student:\n",
        "    def __init__(self, name):\n",
        "        self.name = name\n",
        "        self.courses = []\n",
        "\n",
        "    def add_course(self, course):\n",
        "        self.courses.append(course)\n",
        "        return self   # returning self enables chaining\n",
        "\n",
        "    def display(self):\n",
        "        print(f\"{self.name} is enrolled in: {', '.join(self.courses)}\")\n",
        "        return self\n",
        "\n",
        "# Using method chaining\n",
        "student = Student(\"Chetan\")\n",
        "student.add_course(\"Python\").add_course(\"MySQL\").display()\n"
      ],
      "metadata": {
        "colab": {
          "base_uri": "https://localhost:8080/"
        },
        "id": "idzFZ4kPnZAP",
        "outputId": "b9204e4a-3b0b-408f-c99a-717f2d30530e"
      },
      "execution_count": 87,
      "outputs": [
        {
          "output_type": "stream",
          "name": "stdout",
          "text": [
            "Chetan is enrolled in: Python, MySQL\n"
          ]
        },
        {
          "output_type": "execute_result",
          "data": {
            "text/plain": [
              "<__main__.Student at 0x78defc1d6910>"
            ]
          },
          "metadata": {},
          "execution_count": 87
        }
      ]
    },
    {
      "cell_type": "markdown",
      "source": [
        "Why use method chaining?\n",
        "  \n",
        "  - Cleaner syntax\n",
        "  - Improves readability\n",
        "  - Reduces repetitive code\n",
        "\n",
        "\n",
        "Things to remember:\n",
        "\n",
        "  - Each method must return self (or another object if chaining different types).\n",
        "  - Works best in builder-style or fluent interfaces.\n",
        "\n"
      ],
      "metadata": {
        "id": "lMp4bLRNoEit"
      }
    },
    {
      "cell_type": "markdown",
      "source": [
        "Q25. What is the purpose of the __call__ method in Python ?\n",
        "\n",
        "  - The __call__ method in Python allows an instance of a class to be called like a function.\n",
        "\n",
        "Purpose:\n",
        "\n",
        "- When you define the __call__ method in a class, you can use the object as if it were a function. This can be useful for:\n",
        "\n",
        "   - Making instances behave like functions (function objects)\n",
        "   - Cleaner and more intuitive syntax\n",
        "   - Custom behavior when the object is \"called\"\n",
        "\n",
        "\n",
        "  \n",
        "\n"
      ],
      "metadata": {
        "id": "vgSEhNzloaoW"
      }
    },
    {
      "cell_type": "code",
      "source": [
        "# Example:\n",
        "\n",
        "\n",
        "class Greeter:\n",
        "    def __init__(self, name):\n",
        "        self.name = name\n",
        "\n",
        "    def __call__(self, greeting):\n",
        "        return f\"{greeting}, {self.name}!\"\n",
        "\n",
        "greet = Greeter(\"Alice\")\n",
        "print(greet(\"Hello\"))  # Output: Hello, Alice!\n"
      ],
      "metadata": {
        "colab": {
          "base_uri": "https://localhost:8080/"
        },
        "id": "zoYNXJ93n-lU",
        "outputId": "84777404-6160-4c20-ea69-c62758a9e56d"
      },
      "execution_count": 88,
      "outputs": [
        {
          "output_type": "stream",
          "name": "stdout",
          "text": [
            "Hello, Alice!\n"
          ]
        }
      ]
    },
    {
      "cell_type": "markdown",
      "source": [
        "Here, greet(\"Hello\") works because __call__ is defined.\n",
        "\n",
        "\n",
        "  Real-world Use Cases:\n",
        "    \n",
        "    - Callable objects in frameworks like Django, Flask\n",
        "    - Decorators, which are often implemented as classes with __call__\n",
        "    - Function caching or logging wrappers\n",
        "    - Dynamic function behavior\n",
        "\n",
        "\n",
        "\n"
      ],
      "metadata": {
        "id": "EjnQj-FLo-aH"
      }
    },
    {
      "cell_type": "code",
      "source": [],
      "metadata": {
        "id": "TWyNsLMYo7uO"
      },
      "execution_count": null,
      "outputs": []
    }
  ]
}